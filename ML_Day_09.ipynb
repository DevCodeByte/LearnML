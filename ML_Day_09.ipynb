{
  "nbformat": 4,
  "nbformat_minor": 0,
  "metadata": {
    "colab": {
      "provenance": []
    },
    "kernelspec": {
      "name": "python3",
      "display_name": "Python 3"
    },
    "language_info": {
      "name": "python"
    }
  },
  "cells": [
    {
      "cell_type": "code",
      "source": [
        "#understanding machine learning\n"
      ],
      "metadata": {
        "id": "VTfqaFlwAmC9"
      },
      "execution_count": null,
      "outputs": []
    }
  ]
}