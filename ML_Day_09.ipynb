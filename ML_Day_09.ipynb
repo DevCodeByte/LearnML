{
  "nbformat": 4,
  "nbformat_minor": 0,
  "metadata": {
    "colab": {
      "provenance": []
    },
    "kernelspec": {
      "name": "python3",
      "display_name": "Python 3"
    },
    "language_info": {
      "name": "python"
    }
  },
  "cells": [
    {
      "cell_type": "code",
      "source": [
        "#understanding machine learning\n",
        "#Linear Regression\n",
        "import numpy as np\n",
        "import matplotlib.pyplot as plt\n",
        "from sklearn.linear_model import LinearRegression\n",
        "from sklearn.metrics import mean_squared_error\n",
        "\n",
        "temp = [20, 25, 30, 35, 40]\n",
        "sale = [13, 21, 25, 35, 38]\n",
        "\n",
        "x = np.array([temp]).T\n",
        "# same as x = np.transpose(x)\n",
        "\n",
        "print(x)\n",
        "print(x.shape)\n",
        "\n",
        "\n",
        "\n",
        "\n"
      ],
      "metadata": {
        "colab": {
          "base_uri": "https://localhost:8080/"
        },
        "id": "VTfqaFlwAmC9",
        "outputId": "d356347e-6d0a-4f0d-da54-18fa346e3344"
      },
      "execution_count": 4,
      "outputs": [
        {
          "output_type": "stream",
          "name": "stdout",
          "text": [
            "[[20]\n",
            " [25]\n",
            " [30]\n",
            " [35]\n",
            " [40]]\n",
            "(5, 1)\n"
          ]
        }
      ]
    }
  ]
}