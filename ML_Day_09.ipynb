{
  "nbformat": 4,
  "nbformat_minor": 0,
  "metadata": {
    "colab": {
      "provenance": [],
      "include_colab_link": true
    },
    "kernelspec": {
      "name": "python3",
      "display_name": "Python 3"
    },
    "language_info": {
      "name": "python"
    }
  },
  "cells": [
    {
      "cell_type": "markdown",
      "metadata": {
        "id": "view-in-github",
        "colab_type": "text"
      },
      "source": [
        "<a href=\"https://colab.research.google.com/github/DevCodeByte/LearnML/blob/main/ML_Day_09.ipynb\" target=\"_parent\"><img src=\"https://colab.research.google.com/assets/colab-badge.svg\" alt=\"Open In Colab\"/></a>"
      ]
    },
    {
      "cell_type": "code",
      "source": [
        "#understanding machine learning\n",
        "#Linear Regression\n",
        "import numpy as np\n",
        "import matplotlib.pyplot as plt\n",
        "from sklearn.linear_model import LinearRegression\n",
        "from sklearn.metrics import mean_squared_error\n",
        "\n",
        "temp = [20, 25, 30, 35, 40]\n",
        "sale = [13, 21, 25, 35, 38]\n",
        "\n",
        "#converting one dimensional array to two dimentional as its needed for linear regression\n",
        "# so here it will convert the 1x5 array (one row, multiple columns) into 5x1 (multiple row, one column) array\n",
        "x = np.array([temp]).T\n",
        "# same as x = np.transpose(x)\n",
        "\n",
        "print(x)\n",
        "print(x.shape)\n",
        "\n",
        "y = np.array(sale)\n",
        "print(y)\n",
        "print(y.shape)\n",
        "\n",
        "\n"
      ],
      "metadata": {
        "colab": {
          "base_uri": "https://localhost:8080/"
        },
        "id": "VTfqaFlwAmC9",
        "outputId": "39905597-104b-40b9-e162-962e46289850"
      },
      "execution_count": 7,
      "outputs": [
        {
          "output_type": "stream",
          "name": "stdout",
          "text": [
            "[[20]\n",
            " [25]\n",
            " [30]\n",
            " [35]\n",
            " [40]]\n",
            "(5, 1)\n",
            "[13 21 25 35 38]\n",
            "(5,)\n"
          ]
        }
      ]
    },
    {
      "cell_type": "code",
      "source": [
        "# creating linear regression model\n",
        "model = LinearRegression()\n",
        "model.fit(x,y)\n",
        "\n",
        "y_pred = model.predict(x)\n",
        "print(y_pred)"
      ],
      "metadata": {
        "colab": {
          "base_uri": "https://localhost:8080/"
        },
        "id": "ivGkpiT9K4i0",
        "outputId": "50867018-8da6-4aae-f6d4-b7f92a794dd4"
      },
      "execution_count": 9,
      "outputs": [
        {
          "output_type": "stream",
          "name": "stdout",
          "text": [
            "[13.6 20.  26.4 32.8 39.2]\n"
          ]
        }
      ]
    },
    {
      "cell_type": "code",
      "source": [
        "#find slope and intercept\n",
        "print(model.coef_)\n",
        "print(model.intercept_)"
      ],
      "metadata": {
        "colab": {
          "base_uri": "https://localhost:8080/"
        },
        "id": "za_v9qy6NmZ4",
        "outputId": "b4b9be8a-722b-40ad-fe8f-7cebc088f60e"
      },
      "execution_count": 10,
      "outputs": [
        {
          "output_type": "stream",
          "name": "stdout",
          "text": [
            "[1.28]\n",
            "-12.000000000000007\n"
          ]
        }
      ]
    },
    {
      "cell_type": "code",
      "source": [
        "#predicting new value\n",
        "new_temp = 33\n",
        "new_sale = model.predict([[new_temp]]) # giving two dimensional array as input\n",
        "print(new_sale)"
      ],
      "metadata": {
        "colab": {
          "base_uri": "https://localhost:8080/"
        },
        "id": "nY5JHE1COCZb",
        "outputId": "1dfbddf7-d2d3-427e-9cc6-3c19af3e8d23"
      },
      "execution_count": 11,
      "outputs": [
        {
          "output_type": "stream",
          "name": "stdout",
          "text": [
            "[30.24]\n"
          ]
        }
      ]
    },
    {
      "cell_type": "code",
      "source": [
        "#mean squared error\n",
        "mse = mean_squared_error(y, y_pred)\n",
        "print(mse)"
      ],
      "metadata": {
        "id": "DMtGldKKPU56",
        "outputId": "367f5f20-75c2-4305-b6ae-3929c35622bf",
        "colab": {
          "base_uri": "https://localhost:8080/"
        }
      },
      "execution_count": 12,
      "outputs": [
        {
          "output_type": "stream",
          "name": "stdout",
          "text": [
            "1.9199999999999964\n"
          ]
        }
      ]
    },
    {
      "cell_type": "code",
      "source": [
        "#let plot the graph\n",
        "plt.scatter(temp, sale, marker=\"*\", color=\"r\")\n",
        "plt.plot(x, y_pred, color=\"b\")\n",
        "plt.xlabel(\"Temperature\")\n",
        "plt.ylabel(\"Sales\")\n",
        "plt.show()"
      ],
      "metadata": {
        "id": "PHmBlO0oQXeE",
        "outputId": "a1627d6e-4bb1-448d-cd45-6177a29f6b42",
        "colab": {
          "base_uri": "https://localhost:8080/",
          "height": 449
        }
      },
      "execution_count": 14,
      "outputs": [
        {
          "output_type": "display_data",
          "data": {
            "text/plain": [
              "<Figure size 640x480 with 1 Axes>"
            ],
            "image/png": "[encoded data removed]"
          },
          "metadata": {}
        }
      ]
    },
    {
      "cell_type": "code",
      "source": [
        "#Now trying with normal statistics library\n",
        "from scipy import stats\n",
        "slope, intercept, r_value, p_value, std_err = stats.linregress(temp, sale)\n",
        "print('Slope:', slope)\n",
        "print('Intercept:', intercept)\n"
      ],
      "metadata": {
        "id": "4Gu3OOoASSJS",
        "outputId": "a74f88dd-86b1-420b-c28f-8fa53f343510",
        "colab": {
          "base_uri": "https://localhost:8080/"
        }
      },
      "execution_count": 16,
      "outputs": [
        {
          "output_type": "stream",
          "name": "stdout",
          "text": [
            "Slope: 1.28\n",
            "Intercept: -12.0\n"
          ]
        }
      ]
    },
    {
      "cell_type": "code",
      "source": [
        "def myfunc(x):\n",
        "  return slope * x + intercept\n",
        "\n",
        "mymodel = list(map(myfunc, temp)) #same as y_pred i.e y predict\n",
        "\n",
        "plt.scatter(temp, sale, marker=\"*\", color=\"r\")\n",
        "plt.plot(temp, mymodel, color=\"b\")\n",
        "plt.xlabel(\"Temperature\")\n",
        "plt.ylabel(\"Sales\")\n",
        "plt.show()\n",
        "\n",
        "new_temp = 45\n",
        "new_sale = myfunc(new_temp)\n",
        "print(new_sale)"
      ],
      "metadata": {
        "id": "Kp331ZplToBA",
        "outputId": "3b1f05d5-3e13-4885-c2f1-89373419fe2f",
        "colab": {
          "base_uri": "https://localhost:8080/",
          "height": 466
        }
      },
      "execution_count": 20,
      "outputs": [
        {
          "output_type": "display_data",
          "data": {
            "text/plain": [
              "<Figure size 640x480 with 1 Axes>"
            ],
            "image/png": "[encoded data removed]"
          },
          "metadata": {}
        },
        {
          "output_type": "stream",
          "name": "stdout",
          "text": [
            "45.6\n"
          ]
        }
      ]
    }
  ]
}