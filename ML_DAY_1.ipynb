{
  "nbformat": 4,
  "nbformat_minor": 0,
  "metadata": {
    "colab": {
      "provenance": [],
      "include_colab_link": true
    },
    "kernelspec": {
      "name": "python3",
      "display_name": "Python 3"
    },
    "language_info": {
      "name": "python"
    }
  },
  "cells": [
    {
      "cell_type": "markdown",
      "metadata": {
        "id": "view-in-github",
        "colab_type": "text"
      },
      "source": [
        "<a href=\"https://colab.research.google.com/github/DevCodeByte/LearnML/blob/main/ML_DAY_1.ipynb\" target=\"_parent\"><img src=\"https://colab.research.google.com/assets/colab-badge.svg\" alt=\"Open In Colab\"/></a>"
      ]
    },
    {
      "cell_type": "code",
      "execution_count": null,
      "metadata": {
        "colab": {
          "base_uri": "https://localhost:8080/"
        },
        "id": "WBAgvCnxpRIK",
        "outputId": "a0dfb083-25d8-4623-c9be-edf304c90eab"
      },
      "outputs": [
        {
          "output_type": "stream",
          "name": "stdout",
          "text": [
            "Day-1\n"
          ]
        }
      ],
      "source": [
        "print(\"Day-1\")"
      ]
    },
    {
      "cell_type": "code",
      "source": [
        "#list introduction\n",
        "l = [10,20,30]\n",
        "print(type(l)) # check the  type"
      ],
      "metadata": {
        "id": "xH6gSAJSsbEo",
        "outputId": "996d776b-3db9-4bcd-dcb4-d449e20e0369",
        "colab": {
          "base_uri": "https://localhost:8080/"
        }
      },
      "execution_count": 2,
      "outputs": [
        {
          "output_type": "stream",
          "name": "stdout",
          "text": [
            "<class 'list'>\n"
          ]
        }
      ]
    },
    {
      "cell_type": "code",
      "source": [
        "l2 = [10,1.111,\"ntt\"] # list are hetrogeneous\n",
        "print(l2)\n",
        "print(len(l2)) # lenth of the list"
      ],
      "metadata": {
        "id": "cYjqZfjntLDc",
        "outputId": "a458f205-347d-44c4-df3e-ffbd80652cd2",
        "colab": {
          "base_uri": "https://localhost:8080/"
        }
      },
      "execution_count": 4,
      "outputs": [
        {
          "output_type": "stream",
          "name": "stdout",
          "text": [
            "[10, 1.111, 'ntt']\n",
            "3\n"
          ]
        }
      ]
    },
    {
      "cell_type": "code",
      "source": [
        "# list creation using construction list()\n",
        "l3 = list((10,20,33.333))\n",
        "print(l3)\n",
        "print(type(l3))"
      ],
      "metadata": {
        "id": "lAhg5DlEuuXB",
        "outputId": "8ce0a955-fe96-4fb0-8a35-78df9d92d02c",
        "colab": {
          "base_uri": "https://localhost:8080/"
        }
      },
      "execution_count": 6,
      "outputs": [
        {
          "output_type": "stream",
          "name": "stdout",
          "text": [
            "[10, 20, 33.333]\n",
            "<class 'list'>\n"
          ]
        }
      ]
    },
    {
      "cell_type": "code",
      "source": [
        "#range of index/positive index\n",
        "l = [10,20,30,40,50,60,70,80]\n",
        "print(l[2])\n",
        "print(l[0:7])\n",
        "print(l[0:10]) # you can go beyond index as this is a range but you can't get print(l[10]) as it will throw an error\n",
        "print(l[2:6])\n",
        "print(l[3:4])\n"
      ],
      "metadata": {
        "id": "3DCZYZ8Jxsn8",
        "outputId": "853e4753-ec25-49fc-b31c-2dff7509b80d",
        "colab": {
          "base_uri": "https://localhost:8080/"
        }
      },
      "execution_count": 9,
      "outputs": [
        {
          "output_type": "stream",
          "name": "stdout",
          "text": [
            "30\n",
            "[10, 20, 30, 40, 50, 60, 70]\n",
            "[10, 20, 30, 40, 50, 60, 70, 80]\n",
            "[30, 40, 50, 60]\n",
            "[40]\n"
          ]
        }
      ]
    }
  ]
}