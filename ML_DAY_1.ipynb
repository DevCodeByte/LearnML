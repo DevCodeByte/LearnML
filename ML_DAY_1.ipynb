{
  "nbformat": 4,
  "nbformat_minor": 0,
  "metadata": {
    "colab": {
      "provenance": [],
      "include_colab_link": true
    },
    "kernelspec": {
      "name": "python3",
      "display_name": "Python 3"
    },
    "language_info": {
      "name": "python"
    }
  },
  "cells": [
    {
      "cell_type": "markdown",
      "metadata": {
        "id": "view-in-github",
        "colab_type": "text"
      },
      "source": [
        "<a href=\"https://colab.research.google.com/github/DevCodeByte/LearnML/blob/main/ML_DAY_1.ipynb\" target=\"_parent\"><img src=\"https://colab.research.google.com/assets/colab-badge.svg\" alt=\"Open In Colab\"/></a>"
      ]
    },
    {
      "cell_type": "code",
      "execution_count": null,
      "metadata": {
        "colab": {
          "base_uri": "https://localhost:8080/"
        },
        "id": "WBAgvCnxpRIK",
        "outputId": "a0dfb083-25d8-4623-c9be-edf304c90eab"
      },
      "outputs": [
        {
          "output_type": "stream",
          "name": "stdout",
          "text": [
            "Day-1\n"
          ]
        }
      ],
      "source": [
        "print(\"Day-1\")"
      ]
    },
    {
      "cell_type": "code",
      "source": [
        "#list introduction\n",
        "l = [10,20,30]\n",
        "print(type(l)) # check the  type"
      ],
      "metadata": {
        "colab": {
          "base_uri": "https://localhost:8080/"
        },
        "id": "xH6gSAJSsbEo",
        "outputId": "996d776b-3db9-4bcd-dcb4-d449e20e0369"
      },
      "execution_count": 2,
      "outputs": [
        {
          "output_type": "stream",
          "name": "stdout",
          "text": [
            "<class 'list'>\n"
          ]
        }
      ]
    },
    {
      "cell_type": "code",
      "source": [
        "l2 = [10,1.111,\"ntt\"] # list are hetrogeneous\n",
        "print(l2)\n",
        "print(len(l2)) # lenth of the list"
      ],
      "metadata": {
        "colab": {
          "base_uri": "https://localhost:8080/"
        },
        "id": "cYjqZfjntLDc",
        "outputId": "a458f205-347d-44c4-df3e-ffbd80652cd2"
      },
      "execution_count": 4,
      "outputs": [
        {
          "output_type": "stream",
          "name": "stdout",
          "text": [
            "[10, 1.111, 'ntt']\n",
            "3\n"
          ]
        }
      ]
    },
    {
      "cell_type": "code",
      "source": [
        "# list creation using construction list()\n",
        "l3 = list((10,20,33.333))\n",
        "print(l3)\n",
        "print(type(l3))"
      ],
      "metadata": {
        "colab": {
          "base_uri": "https://localhost:8080/"
        },
        "id": "lAhg5DlEuuXB",
        "outputId": "8ce0a955-fe96-4fb0-8a35-78df9d92d02c"
      },
      "execution_count": 6,
      "outputs": [
        {
          "output_type": "stream",
          "name": "stdout",
          "text": [
            "[10, 20, 33.333]\n",
            "<class 'list'>\n"
          ]
        }
      ]
    },
    {
      "cell_type": "code",
      "source": [
        "#range of index/positive index\n",
        "l = [10,20,30,40,50,60,70,80]\n",
        "print(l[2])\n",
        "print(l[0:7])\n",
        "print(l[0:10]) # you can go beyond index as this is a range but you can't get print(l[10]) as it will throw an error\n",
        "print(l[2:6])\n",
        "print(l[3:4])\n"
      ],
      "metadata": {
        "colab": {
          "base_uri": "https://localhost:8080/"
        },
        "id": "3DCZYZ8Jxsn8",
        "outputId": "853e4753-ec25-49fc-b31c-2dff7509b80d"
      },
      "execution_count": 9,
      "outputs": [
        {
          "output_type": "stream",
          "name": "stdout",
          "text": [
            "30\n",
            "[10, 20, 30, 40, 50, 60, 70]\n",
            "[10, 20, 30, 40, 50, 60, 70, 80]\n",
            "[30, 40, 50, 60]\n",
            "[40]\n"
          ]
        }
      ]
    },
    {
      "cell_type": "code",
      "source": [
        "# range of negetive index\n",
        "l = [10,20,30,40,50,60,70,80]\n",
        "print(l[-1])\n",
        "print(l[-5:-1])"
      ],
      "metadata": {
        "colab": {
          "base_uri": "https://localhost:8080/"
        },
        "id": "BMW6RwEU1BZt",
        "outputId": "75686840-e463-4f6b-965d-28b14e747485"
      },
      "execution_count": 15,
      "outputs": [
        {
          "output_type": "stream",
          "name": "stdout",
          "text": [
            "80\n",
            "[40, 50, 60, 70]\n"
          ]
        }
      ]
    },
    {
      "cell_type": "code",
      "source": [
        "# range with step\n",
        "l = [10,20,30,40,50,60,70,80]\n",
        "print(l[0:5:2])\n",
        "print(l[0:8:1])\n",
        "print(l[0:8:3])\n"
      ],
      "metadata": {
        "colab": {
          "base_uri": "https://localhost:8080/"
        },
        "id": "Jtz9I0GM1hAx",
        "outputId": "a75ab426-bbef-4a55-c9a7-76061d7ff8c2"
      },
      "execution_count": 13,
      "outputs": [
        {
          "output_type": "stream",
          "name": "stdout",
          "text": [
            "[10, 30, 50]\n",
            "[10, 20, 30, 40, 50, 60, 70, 80]\n",
            "[10, 40, 70]\n"
          ]
        }
      ]
    },
    {
      "cell_type": "code",
      "source": [
        "# Optional range params\n",
        "l = [10,20,30,40,50,60,70,80]\n",
        "print(l[0:])\n",
        "print(l[:5])\n",
        "print(l[::-1])\n",
        "print(l[::])"
      ],
      "metadata": {
        "colab": {
          "base_uri": "https://localhost:8080/"
        },
        "id": "SCt-7QJ72IF3",
        "outputId": "cb2bc22a-aeb9-4682-f6db-245d9816f2ec"
      },
      "execution_count": 14,
      "outputs": [
        {
          "output_type": "stream",
          "name": "stdout",
          "text": [
            "[10, 20, 30, 40, 50, 60, 70, 80]\n",
            "[10, 20, 30, 40, 50]\n",
            "[80, 70, 60, 50, 40, 30, 20, 10]\n",
            "[10, 20, 30, 40, 50, 60, 70, 80]\n"
          ]
        }
      ]
    },
    {
      "cell_type": "code",
      "source": [
        "# changing the list\n",
        "l = [10,20,30,40,50]\n",
        "print(l)\n",
        "l[1] = 200 #Overwriting a value\n",
        "print(l)\n",
        "l[1:3]=[210,310] #Overwriting a range of values\n",
        "print(l)\n",
        "l[1:5]=[220] #Overwriting a range of index with lesser no of values, eventually removing all other indexes\n",
        "print(l)"
      ],
      "metadata": {
        "colab": {
          "base_uri": "https://localhost:8080/"
        },
        "id": "VwvSGyhk37GI",
        "outputId": "662b0ef4-4d7f-4f07-865a-e141a2bf5538"
      },
      "execution_count": 32,
      "outputs": [
        {
          "output_type": "stream",
          "name": "stdout",
          "text": [
            "[10, 20, 30, 40, 50]\n",
            "[10, 200, 30, 40, 50]\n",
            "[10, 210, 310, 40, 50]\n",
            "[10, 220]\n"
          ]
        }
      ]
    },
    {
      "cell_type": "code",
      "source": [
        "#traversing in both directions\n",
        "l = [10, 20, 30, 40, 50, 60, 70, 80]\n",
        "print(l[-5:-1:1]) # moving from left to right one step\n",
        "print(l[5:1:-1]) # moving from right to left one step\n",
        "print(l[1:5:2])\n",
        "print(l[-1:-8:-2])\n"
      ],
      "metadata": {
        "colab": {
          "base_uri": "https://localhost:8080/"
        },
        "id": "sGr2uFoc5BBO",
        "outputId": "8eea5e3f-6b66-4de4-8377-ecc4f7c0bbf8"
      },
      "execution_count": 30,
      "outputs": [
        {
          "output_type": "stream",
          "name": "stdout",
          "text": [
            "[40, 50, 60, 70]\n",
            "[60, 50, 40, 30]\n",
            "[20, 40]\n",
            "[80, 60, 40, 20]\n"
          ]
        }
      ]
    },
    {
      "cell_type": "code",
      "source": [
        "# append and insert\n",
        "l = [10, 20, 30, 40, 50, 60, 70, 80]\n",
        "l.append(90) # appending in the last\n",
        "print(l)\n",
        "l.insert(1,15) # inserting 15 at index 1\n",
        "print(l)"
      ],
      "metadata": {
        "colab": {
          "base_uri": "https://localhost:8080/"
        },
        "id": "8k6M6xFW9XSz",
        "outputId": "0dab98b5-e8ca-4c86-e302-93111ec457b9"
      },
      "execution_count": 33,
      "outputs": [
        {
          "output_type": "stream",
          "name": "stdout",
          "text": [
            "[10, 20, 30, 40, 50, 60, 70, 80, 90]\n",
            "[10, 15, 20, 30, 40, 50, 60, 70, 80, 90]\n"
          ]
        }
      ]
    },
    {
      "cell_type": "code",
      "source": [
        "# Extend the list\n",
        "l1 = [10,20,30]\n",
        "l2 = [40,50]\n",
        "l3 = [60,70]\n",
        "l1.extend(l2)\n",
        "print(l1)\n",
        "l1.extend(l3)\n",
        "print(l1)"
      ],
      "metadata": {
        "colab": {
          "base_uri": "https://localhost:8080/"
        },
        "id": "IbHyyReq96AR",
        "outputId": "a2c5095b-01f5-44da-ffa8-bfda69479c73"
      },
      "execution_count": 39,
      "outputs": [
        {
          "output_type": "stream",
          "name": "stdout",
          "text": [
            "[10, 20, 30, 40, 50]\n",
            "[10, 20, 30, 40, 50, 60, 70]\n"
          ]
        }
      ]
    },
    {
      "cell_type": "code",
      "source": [
        "#remove elements\n",
        "l = [10,20,30,40,50,60]\n",
        "l.remove(20) # removing specific element\n",
        "print(l)\n",
        "l.pop() # removing the last index\n",
        "print(l)\n",
        "l.pop(2) # removing a particular index\n",
        "print(l)"
      ],
      "metadata": {
        "colab": {
          "base_uri": "https://localhost:8080/"
        },
        "id": "m-Rc1aY8-2-s",
        "outputId": "6d58ac77-9d16-4136-fbd7-137d8960fbff"
      },
      "execution_count": 44,
      "outputs": [
        {
          "output_type": "stream",
          "name": "stdout",
          "text": [
            "[10, 30, 40, 50, 60]\n",
            "[10, 30, 40, 50]\n",
            "[10, 30, 50]\n"
          ]
        }
      ]
    },
    {
      "cell_type": "code",
      "source": [
        "#remove complete list\n",
        "l = [10, 20, 30]\n",
        "print(l)\n",
        "del l[0:2] # delete particular range of indexes\n",
        "print(l)\n",
        "del l # delete complete list\n",
        "# print(type(l)) # it will throw an error\n"
      ],
      "metadata": {
        "id": "mTkq_dzu_rSb",
        "outputId": "ecaf99ad-4d0b-4aaa-bf26-3ba830f390c4",
        "colab": {
          "base_uri": "https://localhost:8080/"
        }
      },
      "execution_count": 53,
      "outputs": [
        {
          "output_type": "stream",
          "name": "stdout",
          "text": [
            "[10, 20, 30]\n",
            "[30]\n"
          ]
        }
      ]
    },
    {
      "cell_type": "code",
      "source": [
        "#clear the list\n",
        "l = [1,2,3]\n",
        "print(l)\n",
        "l.clear()\n",
        "print(l)"
      ],
      "metadata": {
        "id": "0Nw3McgWALzt",
        "outputId": "e910f73a-e407-49af-e628-5ec3aea325be",
        "colab": {
          "base_uri": "https://localhost:8080/"
        }
      },
      "execution_count": 50,
      "outputs": [
        {
          "output_type": "stream",
          "name": "stdout",
          "text": [
            "[1, 2, 3]\n",
            "[]\n"
          ]
        }
      ]
    }
  ]
}