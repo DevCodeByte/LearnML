{
  "nbformat": 4,
  "nbformat_minor": 0,
  "metadata": {
    "colab": {
      "provenance": []
    },
    "kernelspec": {
      "name": "python3",
      "display_name": "Python 3"
    },
    "language_info": {
      "name": "python"
    }
  },
  "cells": [
    {
      "cell_type": "code",
      "execution_count": null,
      "metadata": {
        "colab": {
          "base_uri": "https://localhost:8080/"
        },
        "id": "ZkJ10K5o3YG6",
        "outputId": "04b3eedf-b920-4375-a24a-949269e0992f"
      },
      "outputs": [
        {
          "output_type": "stream",
          "name": "stdout",
          "text": [
            "day-3\n"
          ]
        }
      ],
      "source": [
        "print(\"day-3\")"
      ]
    },
    {
      "cell_type": "code",
      "source": [
        "t1 = (10,20,\"ntt\",2.5)\n",
        "print(t1)"
      ],
      "metadata": {
        "id": "kD_Yykg1_kCS",
        "outputId": "cf26f541-1a26-4c2a-a2a8-fca84d932dad",
        "colab": {
          "base_uri": "https://localhost:8080/"
        }
      },
      "execution_count": 1,
      "outputs": [
        {
          "output_type": "stream",
          "name": "stdout",
          "text": [
            "(10, 20, 'ntt', 2.5)\n"
          ]
        }
      ]
    },
    {
      "cell_type": "code",
      "source": [
        "print(type(t1))"
      ],
      "metadata": {
        "id": "37VDnpHZ_xCK",
        "outputId": "fe57de24-7b81-476a-c85c-993544515aa0",
        "colab": {
          "base_uri": "https://localhost:8080/"
        }
      },
      "execution_count": 2,
      "outputs": [
        {
          "output_type": "stream",
          "name": "stdout",
          "text": [
            "<class 'tuple'>\n"
          ]
        }
      ]
    },
    {
      "cell_type": "code",
      "source": [
        "# Constructor tuple\n",
        "t2 = tuple((10,20,\"ntt\",2.5))\n",
        "print(t2)"
      ],
      "metadata": {
        "id": "sTtFdWHl_0dz",
        "outputId": "ff411f52-2f6c-49ad-bf4a-1732e2710fe3",
        "colab": {
          "base_uri": "https://localhost:8080/"
        }
      },
      "execution_count": 3,
      "outputs": [
        {
          "output_type": "stream",
          "name": "stdout",
          "text": [
            "(10, 20, 'ntt', 2.5)\n"
          ]
        }
      ]
    },
    {
      "cell_type": "code",
      "source": [
        "# Constructor tuple - passing list (check internal braces)\n",
        "t3 = tuple([10,20,\"ntt\",2.5])\n",
        "print(t3)\n",
        "print(type(t3))"
      ],
      "metadata": {
        "id": "nlbHxOJUAtAd",
        "outputId": "f2cc8dc2-ac5d-4c9b-df2a-f44eba7106cf",
        "colab": {
          "base_uri": "https://localhost:8080/"
        }
      },
      "execution_count": 5,
      "outputs": [
        {
          "output_type": "stream",
          "name": "stdout",
          "text": [
            "(10, 20, 'ntt', 2.5)\n",
            "<class 'tuple'>\n"
          ]
        }
      ]
    },
    {
      "cell_type": "code",
      "source": [
        "t4 = tuple(\"deepak\")\n",
        "print(t4)\n",
        "#but it thows an error with integer, because the int value is not itertable\n",
        "# t5 = tuple(10)\n",
        "# print(t5)\n",
        "\n",
        "# but you can create tuple with one element with a comma\n",
        "t6 = tuple((10,))\n",
        "print(t6)\n"
      ],
      "metadata": {
        "id": "39_bbeJkA2wm",
        "outputId": "d0f044dc-5551-4dcc-b5f9-efc926af86e4",
        "colab": {
          "base_uri": "https://localhost:8080/"
        }
      },
      "execution_count": 8,
      "outputs": [
        {
          "output_type": "stream",
          "name": "stdout",
          "text": [
            "('d', 'e', 'e', 'p', 'a', 'k')\n",
            "(10,)\n"
          ]
        }
      ]
    },
    {
      "cell_type": "code",
      "source": [
        "t7 = tuple((25,35,45,55))\n",
        "print(t7[1])\n",
        "print(t7[-2])\n",
        "print(t7[1:3])\n",
        "print(t7[1:])\n",
        "print(t7[:3])"
      ],
      "metadata": {
        "id": "tqw6XVkGC9jl",
        "outputId": "a71044cc-b332-4f5c-b5d6-5ccfde08c153",
        "colab": {
          "base_uri": "https://localhost:8080/"
        }
      },
      "execution_count": 29,
      "outputs": [
        {
          "output_type": "stream",
          "name": "stdout",
          "text": [
            "35\n",
            "45\n",
            "(35, 45)\n",
            "(35, 45, 55)\n",
            "(25, 35, 45)\n"
          ]
        }
      ]
    },
    {
      "cell_type": "code",
      "source": [
        "t7 = tuple((25,35,45,55))\n",
        "if 35 in t7:\n",
        "    print(\"yes\")\n",
        "else:\n",
        "    print(\"no\")"
      ],
      "metadata": {
        "id": "pBbJk3-_GhdR",
        "outputId": "91804bde-12f3-4fc3-cc0d-7d60118cbb92",
        "colab": {
          "base_uri": "https://localhost:8080/"
        }
      },
      "execution_count": 30,
      "outputs": [
        {
          "output_type": "stream",
          "name": "stdout",
          "text": [
            "yes\n"
          ]
        }
      ]
    },
    {
      "cell_type": "code",
      "source": [],
      "metadata": {
        "id": "Qf4yXTnDGp73"
      },
      "execution_count": null,
      "outputs": []
    }
  ]
}