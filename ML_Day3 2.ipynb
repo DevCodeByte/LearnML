{
  "nbformat": 4,
  "nbformat_minor": 0,
  "metadata": {
    "colab": {
      "provenance": [],
      "include_colab_link": true
    },
    "kernelspec": {
      "name": "python3",
      "display_name": "Python 3"
    },
    "language_info": {
      "name": "python"
    }
  },
  "cells": [
    {
      "cell_type": "markdown",
      "metadata": {
        "id": "view-in-github",
        "colab_type": "text"
      },
      "source": [
        "<a href=\"https://colab.research.google.com/github/DevCodeByte/LearnML/blob/main/ML_Day3%202.ipynb\" target=\"_parent\"><img src=\"https://colab.research.google.com/assets/colab-badge.svg\" alt=\"Open In Colab\"/></a>"
      ]
    },
    {
      "cell_type": "code",
      "execution_count": null,
      "metadata": {
        "colab": {
          "base_uri": "https://localhost:8080/"
        },
        "id": "ZkJ10K5o3YG6",
        "outputId": "04b3eedf-b920-4375-a24a-949269e0992f"
      },
      "outputs": [
        {
          "output_type": "stream",
          "name": "stdout",
          "text": [
            "day-3\n"
          ]
        }
      ],
      "source": [
        "print(\"day-3\")"
      ]
    },
    {
      "cell_type": "code",
      "source": [
        "t1 = (10,20,\"ntt\",2.5)\n",
        "print(t1)"
      ],
      "metadata": {
        "colab": {
          "base_uri": "https://localhost:8080/"
        },
        "id": "kD_Yykg1_kCS",
        "outputId": "cf26f541-1a26-4c2a-a2a8-fca84d932dad"
      },
      "execution_count": null,
      "outputs": [
        {
          "output_type": "stream",
          "name": "stdout",
          "text": [
            "(10, 20, 'ntt', 2.5)\n"
          ]
        }
      ]
    },
    {
      "cell_type": "code",
      "source": [
        "print(type(t1))"
      ],
      "metadata": {
        "colab": {
          "base_uri": "https://localhost:8080/"
        },
        "id": "37VDnpHZ_xCK",
        "outputId": "fe57de24-7b81-476a-c85c-993544515aa0"
      },
      "execution_count": null,
      "outputs": [
        {
          "output_type": "stream",
          "name": "stdout",
          "text": [
            "<class 'tuple'>\n"
          ]
        }
      ]
    },
    {
      "cell_type": "code",
      "source": [
        "# Constructor tuple\n",
        "t2 = tuple((10,20,\"ntt\",2.5))\n",
        "print(t2)"
      ],
      "metadata": {
        "colab": {
          "base_uri": "https://localhost:8080/"
        },
        "id": "sTtFdWHl_0dz",
        "outputId": "ff411f52-2f6c-49ad-bf4a-1732e2710fe3"
      },
      "execution_count": null,
      "outputs": [
        {
          "output_type": "stream",
          "name": "stdout",
          "text": [
            "(10, 20, 'ntt', 2.5)\n"
          ]
        }
      ]
    },
    {
      "cell_type": "code",
      "source": [
        "# Constructor tuple - passing list (check internal braces)\n",
        "t3 = tuple([10,20,\"ntt\",2.5])\n",
        "print(t3)\n",
        "print(type(t3))"
      ],
      "metadata": {
        "colab": {
          "base_uri": "https://localhost:8080/"
        },
        "id": "nlbHxOJUAtAd",
        "outputId": "f2cc8dc2-ac5d-4c9b-df2a-f44eba7106cf"
      },
      "execution_count": null,
      "outputs": [
        {
          "output_type": "stream",
          "name": "stdout",
          "text": [
            "(10, 20, 'ntt', 2.5)\n",
            "<class 'tuple'>\n"
          ]
        }
      ]
    },
    {
      "cell_type": "code",
      "source": [
        "t4 = tuple(\"deepak\")\n",
        "print(t4)\n",
        "#but it thows an error with integer, because the int value is not itertable\n",
        "# t5 = tuple(10)\n",
        "# print(t5)\n",
        "\n",
        "# but you can create tuple with one element with a comma\n",
        "t6 = tuple((10,))\n",
        "print(t6)\n"
      ],
      "metadata": {
        "colab": {
          "base_uri": "https://localhost:8080/"
        },
        "id": "39_bbeJkA2wm",
        "outputId": "d0f044dc-5551-4dcc-b5f9-efc926af86e4"
      },
      "execution_count": null,
      "outputs": [
        {
          "output_type": "stream",
          "name": "stdout",
          "text": [
            "('d', 'e', 'e', 'p', 'a', 'k')\n",
            "(10,)\n"
          ]
        }
      ]
    },
    {
      "cell_type": "code",
      "source": [
        "t7 = tuple((25,35,45,55))\n",
        "print(t7[1])\n",
        "print(t7[-2])\n",
        "print(t7[1:3])\n",
        "print(t7[1:])\n",
        "print(t7[:3])"
      ],
      "metadata": {
        "colab": {
          "base_uri": "https://localhost:8080/"
        },
        "id": "tqw6XVkGC9jl",
        "outputId": "a71044cc-b332-4f5c-b5d6-5ccfde08c153"
      },
      "execution_count": null,
      "outputs": [
        {
          "output_type": "stream",
          "name": "stdout",
          "text": [
            "35\n",
            "45\n",
            "(35, 45)\n",
            "(35, 45, 55)\n",
            "(25, 35, 45)\n"
          ]
        }
      ]
    },
    {
      "cell_type": "code",
      "source": [
        "t7 = tuple((25,35,45,55))\n",
        "if 35 in t7:\n",
        "    print(\"yes\")\n",
        "else:\n",
        "    print(\"no\")"
      ],
      "metadata": {
        "colab": {
          "base_uri": "https://localhost:8080/"
        },
        "id": "pBbJk3-_GhdR",
        "outputId": "91804bde-12f3-4fc3-cc0d-7d60118cbb92"
      },
      "execution_count": null,
      "outputs": [
        {
          "output_type": "stream",
          "name": "stdout",
          "text": [
            "yes\n"
          ]
        }
      ]
    },
    {
      "cell_type": "code",
      "source": [
        "#update a tuple\n",
        "t8 = (20,30,50)\n",
        "# A item can't be updated in a tuple so argument below is incorrect\n",
        "# t8[1] = 40\n",
        "\n",
        "# so we need create convert tuple to list and list to tuple\n",
        "lt8 = list(t8)\n",
        "lt8[1] = 40\n",
        "t8 = tuple(lt8)\n",
        "print(t8)"
      ],
      "metadata": {
        "colab": {
          "base_uri": "https://localhost:8080/"
        },
        "id": "Qf4yXTnDGp73",
        "outputId": "85592da6-d340-46c3-eb7c-6d5b049b64c1"
      },
      "execution_count": null,
      "outputs": [
        {
          "output_type": "stream",
          "name": "stdout",
          "text": [
            "(20, 40, 50)\n"
          ]
        }
      ]
    },
    {
      "cell_type": "code",
      "source": [
        "#delete a tuple\n",
        "t9 = (20,30,50)\n",
        "del t9\n",
        "print(t9)"
      ],
      "metadata": {
        "id": "MpAWLxGlIA53",
        "outputId": "6163659a-d28d-4883-ab73-0f6d0793333b",
        "colab": {
          "base_uri": "https://localhost:8080/",
          "height": 176
        }
      },
      "execution_count": null,
      "outputs": [
        {
          "output_type": "error",
          "ename": "NameError",
          "evalue": "name 't9' is not defined",
          "traceback": [
            "\u001b[0;31m---------------------------------------------------------------------------\u001b[0m",
            "\u001b[0;31mNameError\u001b[0m                                 Traceback (most recent call last)",
            "\u001b[0;32m<ipython-input-34-c349800ca419>\u001b[0m in \u001b[0;36m<cell line: 4>\u001b[0;34m()\u001b[0m\n\u001b[1;32m      2\u001b[0m \u001b[0mt9\u001b[0m \u001b[0;34m=\u001b[0m \u001b[0;34m(\u001b[0m\u001b[0;36m20\u001b[0m\u001b[0;34m,\u001b[0m\u001b[0;36m30\u001b[0m\u001b[0;34m,\u001b[0m\u001b[0;36m50\u001b[0m\u001b[0;34m)\u001b[0m\u001b[0;34m\u001b[0m\u001b[0;34m\u001b[0m\u001b[0m\n\u001b[1;32m      3\u001b[0m \u001b[0;32mdel\u001b[0m \u001b[0mt9\u001b[0m\u001b[0;34m\u001b[0m\u001b[0;34m\u001b[0m\u001b[0m\n\u001b[0;32m----> 4\u001b[0;31m \u001b[0mprint\u001b[0m\u001b[0;34m(\u001b[0m\u001b[0mt9\u001b[0m\u001b[0;34m)\u001b[0m\u001b[0;34m\u001b[0m\u001b[0;34m\u001b[0m\u001b[0m\n\u001b[0m",
            "\u001b[0;31mNameError\u001b[0m: name 't9' is not defined"
          ]
        }
      ]
    },
    {
      "cell_type": "code",
      "source": [
        "# iterate\n",
        "t10 = (20,30,50)\n",
        "for x in t10:\n",
        "    print(x)"
      ],
      "metadata": {
        "id": "StCAkbfgIH9m",
        "outputId": "debe336e-7ed8-49c8-9f8f-2af3f4663f03",
        "colab": {
          "base_uri": "https://localhost:8080/"
        }
      },
      "execution_count": null,
      "outputs": [
        {
          "output_type": "stream",
          "name": "stdout",
          "text": [
            "20\n",
            "30\n",
            "50\n"
          ]
        }
      ]
    },
    {
      "cell_type": "code",
      "source": [
        "# set\n",
        "d1 = {10, \"ntt\",30}\n",
        "print(d1)\n",
        "print(type(d1))"
      ],
      "metadata": {
        "id": "-4odDiTWJ2Gb",
        "outputId": "860c0a91-beeb-4124-f313-11f26cdcf814",
        "colab": {
          "base_uri": "https://localhost:8080/"
        }
      },
      "execution_count": null,
      "outputs": [
        {
          "output_type": "stream",
          "name": "stdout",
          "text": [
            "{10, 'ntt', 30}\n",
            "<class 'set'>\n"
          ]
        }
      ]
    },
    {
      "cell_type": "code",
      "source": [
        "# dictionary with index\n",
        "d2 = {10:\"deepak\", 20:\"sumit\",30:\"varun\"}\n",
        "print(d2)\n",
        "print(d2[20])\n",
        "print(type(d2))"
      ],
      "metadata": {
        "id": "3cGhBgoSKDJs",
        "outputId": "614694f0-a8a1-4ac9-c500-7f38fde4603c",
        "colab": {
          "base_uri": "https://localhost:8080/"
        }
      },
      "execution_count": null,
      "outputs": [
        {
          "output_type": "stream",
          "name": "stdout",
          "text": [
            "{10: 'deepak', 20: 'sumit', 30: 'varun'}\n",
            "sumit\n",
            "<class 'dict'>\n"
          ]
        }
      ]
    },
    {
      "cell_type": "code",
      "source": [
        "# dictionary of lists\n",
        "d3 = {10:[\"deepak\",\"sumit\"], 20:\"sumit\",30:\"varun\"}\n",
        "print(d3)\n",
        "print(d3[10])\n",
        "print(type(d3));"
      ],
      "metadata": {
        "id": "50ewsejcMY2E",
        "outputId": "76feee33-7de3-4092-ecfc-30212d83a481",
        "colab": {
          "base_uri": "https://localhost:8080/"
        }
      },
      "execution_count": null,
      "outputs": [
        {
          "output_type": "stream",
          "name": "stdout",
          "text": [
            "{10: ['deepak', 'sumit'], 20: 'sumit', 30: 'varun'}\n",
            "['deepak', 'sumit']\n",
            "<class 'dict'>\n"
          ]
        }
      ]
    },
    {
      "cell_type": "code",
      "source": [
        "# creating dictionary using constructor\n",
        "d4 = dict({10:\"deepak\", 20:\"sumit\",30:\"varun\"})\n",
        "print(d4)\n",
        "print(type(d4))\n",
        "\n",
        "d5 = dict([(10,\"deepak\"), (20,\"sumit\"),(30,\"varun\")])\n",
        "print(d5)\n",
        "print(type(d5))\n",
        "\n",
        "d6 = dict([[10,\"deepak\"], [20,\"sumit\"],[30,\"varun\"]])\n",
        "print(d6)\n",
        "print(type(d6))\n",
        "\n",
        "d7 = dict(((10,\"deepak\"), (20,\"sumit\"),(30,\"varun\")))\n",
        "print(d7)\n",
        "print(type(d7))\n",
        "\n",
        "d8 = dict({\"name\":\"deepak\", \"age\":25, \"country\":\"India\"});\n",
        "print(d8)"
      ],
      "metadata": {
        "id": "QlhdXFi8MpxD",
        "outputId": "02962ffc-05f0-41fe-baa3-0fbc04e4b045",
        "colab": {
          "base_uri": "https://localhost:8080/"
        }
      },
      "execution_count": null,
      "outputs": [
        {
          "output_type": "stream",
          "name": "stdout",
          "text": [
            "{10: 'deepak', 20: 'sumit', 30: 'varun'}\n",
            "<class 'dict'>\n",
            "{10: 'deepak', 20: 'sumit', 30: 'varun'}\n",
            "<class 'dict'>\n",
            "{10: 'deepak', 20: 'sumit', 30: 'varun'}\n",
            "<class 'dict'>\n",
            "{10: 'deepak', 20: 'sumit', 30: 'varun'}\n",
            "<class 'dict'>\n",
            "{'name': 'deepak', 'age': 25, 'country': 'India'}\n"
          ]
        }
      ]
    },
    {
      "cell_type": "code",
      "source": [
        "# Updating dictionary\n",
        "d9 = {\"name\":\"deepak\", \"age\":25 ,\"country\":\"India\"}\n",
        "d9[\"age\"] = 26\n",
        "print(d9)\n",
        "d9.update({\"age\":27})\n",
        "print(d9)\n",
        "d9[\"salary\"] = 20000\n",
        "print(d9)"
      ],
      "metadata": {
        "id": "T8rLOwbYN2wE",
        "outputId": "5517e4cf-cfd1-49a3-b8d6-3cff891b5aa3",
        "colab": {
          "base_uri": "https://localhost:8080/"
        }
      },
      "execution_count": null,
      "outputs": [
        {
          "output_type": "stream",
          "name": "stdout",
          "text": [
            "{'name': 'deepak', 'age': 26, 'country': 'India'}\n",
            "{'name': 'deepak', 'age': 27, 'country': 'India'}\n",
            "{'name': 'deepak', 'age': 27, 'country': 'India', 'salary': 20000}\n"
          ]
        }
      ]
    },
    {
      "cell_type": "code",
      "source": [
        "#pop item\n",
        "d10 = {\"name\":\"deepak\", \"age\":25 ,\"country\":\"India\"}\n",
        "d10.pop(\"age\")\n",
        "print(d10)\n",
        "d10.popitem()\n",
        "print(d10)"
      ],
      "metadata": {
        "id": "5m16YPteOZWQ",
        "outputId": "187e094c-2114-48a9-fa79-a88e87f8dcbd",
        "colab": {
          "base_uri": "https://localhost:8080/"
        }
      },
      "execution_count": null,
      "outputs": [
        {
          "output_type": "stream",
          "name": "stdout",
          "text": [
            "{'name': 'deepak', 'country': 'India'}\n",
            "{'name': 'deepak'}\n"
          ]
        }
      ]
    },
    {
      "cell_type": "code",
      "source": [
        "#finding keys and values of a dictionary\n",
        "d11 = {\"name\":\"deepak\", \"age\":25 ,\"country\":\"India\"}\n",
        "print(d11.keys())\n",
        "print(d11.values())\n"
      ],
      "metadata": {
        "id": "e8Rth8pZOg7j",
        "outputId": "2c0b883f-5c42-4a70-bfa2-e43046217fc0",
        "colab": {
          "base_uri": "https://localhost:8080/"
        }
      },
      "execution_count": null,
      "outputs": [
        {
          "output_type": "stream",
          "name": "stdout",
          "text": [
            "dict_keys(['name', 'age', 'country'])\n",
            "dict_values(['deepak', 25, 'India'])\n"
          ]
        }
      ]
    },
    {
      "cell_type": "code",
      "source": [
        "#iterate a dictionary\n",
        "d12 = {\"name\":\"deepak\", \"age\":25 ,\"country\":\"India\"}\n",
        "for x in d12:\n",
        "    print(x)\n",
        "print(\"---------------\")\n",
        "for x in d12:\n",
        "    print(d12[x])"
      ],
      "metadata": {
        "id": "wLt40iuwO1tn",
        "outputId": "5c7e1c1c-9fce-4f0e-e432-9b6db5a33a77",
        "colab": {
          "base_uri": "https://localhost:8080/"
        }
      },
      "execution_count": null,
      "outputs": [
        {
          "output_type": "stream",
          "name": "stdout",
          "text": [
            "name\n",
            "age\n",
            "country\n",
            "---------------\n",
            "deepak\n",
            "25\n",
            "India\n"
          ]
        }
      ]
    },
    {
      "cell_type": "code",
      "source": [
        "# delete a dictionary\n",
        "d13 = {\"name\":\"deepak\", \"age\":25 ,\"country\":\"India\"}\n",
        "del d13[\"age\"]\n",
        "print(d13)\n",
        "\n",
        "del d13\n",
        "print(d13)"
      ],
      "metadata": {
        "id": "AD4Wa9nZPFQS",
        "outputId": "171bd632-0c09-4914-a121-b76085096817",
        "colab": {
          "base_uri": "https://localhost:8080/",
          "height": 193
        }
      },
      "execution_count": null,
      "outputs": [
        {
          "output_type": "stream",
          "name": "stdout",
          "text": [
            "{'name': 'deepak', 'country': 'India'}\n"
          ]
        },
        {
          "output_type": "error",
          "ename": "NameError",
          "evalue": "name 'd13' is not defined",
          "traceback": [
            "\u001b[0;31m---------------------------------------------------------------------------\u001b[0m",
            "\u001b[0;31mNameError\u001b[0m                                 Traceback (most recent call last)",
            "\u001b[0;32m<ipython-input-62-8f0b5a1597e3>\u001b[0m in \u001b[0;36m<cell line: 7>\u001b[0;34m()\u001b[0m\n\u001b[1;32m      5\u001b[0m \u001b[0;34m\u001b[0m\u001b[0m\n\u001b[1;32m      6\u001b[0m \u001b[0;32mdel\u001b[0m \u001b[0md13\u001b[0m\u001b[0;34m\u001b[0m\u001b[0;34m\u001b[0m\u001b[0m\n\u001b[0;32m----> 7\u001b[0;31m \u001b[0mprint\u001b[0m\u001b[0;34m(\u001b[0m\u001b[0md13\u001b[0m\u001b[0;34m)\u001b[0m\u001b[0;34m\u001b[0m\u001b[0;34m\u001b[0m\u001b[0m\n\u001b[0m",
            "\u001b[0;31mNameError\u001b[0m: name 'd13' is not defined"
          ]
        }
      ]
    },
    {
      "cell_type": "code",
      "source": [
        "#import numpy package\n",
        "import numpy as np\n",
        "arr = np.array([1,2,3,4,5])\n",
        "print(arr)\n",
        "print(type(arr))\n",
        "print(arr.ndim)\n",
        "print(arr.size)\n",
        "print(arr.shape)\n",
        "print(arr.dtype)"
      ],
      "metadata": {
        "id": "WtkYhBLMP47f",
        "outputId": "46b08b2d-af7e-4d32-b298-369f689c246d",
        "colab": {
          "base_uri": "https://localhost:8080/"
        }
      },
      "execution_count": null,
      "outputs": [
        {
          "output_type": "stream",
          "name": "stdout",
          "text": [
            "[1 2 3 4 5]\n",
            "<class 'numpy.ndarray'>\n",
            "1\n",
            "5\n",
            "(5,)\n",
            "int64\n"
          ]
        }
      ]
    },
    {
      "cell_type": "code",
      "source": [
        "arr2 = np.array([[1,2,3],[4,5,6]])\n",
        "print(arr2)\n",
        "print(type(arr2))\n",
        "print(arr2.ndim)\n",
        "print(arr2.size)\n",
        "print(arr2.shape)\n",
        "print(arr2.dtype)"
      ],
      "metadata": {
        "id": "IYDB0P5AS1_J",
        "outputId": "aca493b5-7c06-4600-b20d-0fba90aaada7",
        "colab": {
          "base_uri": "https://localhost:8080/"
        }
      },
      "execution_count": null,
      "outputs": [
        {
          "output_type": "stream",
          "name": "stdout",
          "text": [
            "[[1 2 3]\n",
            " [4 5 6]]\n",
            "<class 'numpy.ndarray'>\n",
            "2\n",
            "6\n",
            "(2, 3)\n",
            "int64\n"
          ]
        }
      ]
    },
    {
      "cell_type": "code",
      "source": [
        "# working with 3 dim array\n",
        "arr3 = np.array([[[1,2,3],[4,5,6]],[[7,8,9],[10,11,12]]])\n",
        "print(arr3)\n",
        "print(type(arr3))\n",
        "print(arr3.ndim)\n",
        "print(arr3.size)\n",
        "print(arr3.shape)"
      ],
      "metadata": {
        "id": "urXdExgkTctL",
        "outputId": "be021a60-e759-4eda-d1ff-b1334d902702",
        "colab": {
          "base_uri": "https://localhost:8080/"
        }
      },
      "execution_count": null,
      "outputs": [
        {
          "output_type": "stream",
          "name": "stdout",
          "text": [
            "[[[ 1  2  3]\n",
            "  [ 4  5  6]]\n",
            "\n",
            " [[ 7  8  9]\n",
            "  [10 11 12]]]\n",
            "<class 'numpy.ndarray'>\n",
            "3\n",
            "12\n",
            "(2, 2, 3)\n"
          ]
        }
      ]
    },
    {
      "cell_type": "code",
      "source": [
        "#different numpy arrays\n",
        "import numpy as np\n",
        "\n",
        "arr1 = np.array(100)\n",
        "arr2= np.array([1,2,3,4,5])\n",
        "arr3 = np.array([[1,2,3],[4,5,6]])\n",
        "arr4 = np.array([[[1,2,3],[4,5,6]],[[1,2,3],[4,5,6]]])\n",
        "\n",
        "arr5 = np.array([1,2,3,4,5], ndmin=5)\n",
        "print(arr5)\n",
        "print('number of dimensions :', arr5.ndim)\n",
        ""
      ],
      "metadata": {
        "id": "JRWbq4WdeVxc",
        "outputId": "84d987e9-48d3-4a16-c674-d508dc037b45",
        "colab": {
          "base_uri": "https://localhost:8080/"
        }
      },
      "execution_count": 1,
      "outputs": [
        {
          "output_type": "stream",
          "name": "stdout",
          "text": [
            "[[[[[1 2 3 4 5]]]]]\n",
            "number of dimensions : 5\n"
          ]
        }
      ]
    },
    {
      "cell_type": "code",
      "source": [
        "arr2 = np.array([1,2,3,4,5])\n",
        "print(arr2[::-1])"
      ],
      "metadata": {
        "id": "I54Cwu7Fe4RU",
        "outputId": "070848b4-7a40-4fe4-e57c-4a2704ea6217",
        "colab": {
          "base_uri": "https://localhost:8080/"
        }
      },
      "execution_count": 3,
      "outputs": [
        {
          "output_type": "stream",
          "name": "stdout",
          "text": [
            "[5 4 3 2 1]\n"
          ]
        }
      ]
    },
    {
      "cell_type": "code",
      "source": [
        "#checking elment of a two dim array\n",
        "arr3 = np.array([[1,2,3],[4,5,6]])\n",
        "print(arr3[1,2])"
      ],
      "metadata": {
        "id": "8BKJjPJFfHQ6",
        "outputId": "648d8bd5-0ecd-4a22-fa29-f5fa9f32e65b",
        "colab": {
          "base_uri": "https://localhost:8080/"
        }
      },
      "execution_count": 4,
      "outputs": [
        {
          "output_type": "stream",
          "name": "stdout",
          "text": [
            "6\n"
          ]
        }
      ]
    },
    {
      "cell_type": "code",
      "source": [
        "#check element of a three dim array\n",
        "arr4 = np.array([[[1,2,3],[4,5,6]],[[1,2,3],[4,5,6]]])\n",
        "print(arr4[1,1,2])"
      ],
      "metadata": {
        "id": "5b8jzBcRfOdW",
        "outputId": "9417e612-8a38-4174-f240-58bfeb76788f",
        "colab": {
          "base_uri": "https://localhost:8080/"
        }
      },
      "execution_count": 5,
      "outputs": [
        {
          "output_type": "stream",
          "name": "stdout",
          "text": [
            "6\n"
          ]
        }
      ]
    },
    {
      "cell_type": "code",
      "source": [
        "#check element with negetive indexing\n",
        "arr5 = np.array([[1,2,3],[4,5,6]])\n",
        "print(arr5[-1,-2])"
      ],
      "metadata": {
        "id": "A8gldB5bfdoB",
        "outputId": "047587ad-a385-460f-cc2c-e2f4c6d3786f",
        "colab": {
          "base_uri": "https://localhost:8080/"
        }
      },
      "execution_count": 6,
      "outputs": [
        {
          "output_type": "stream",
          "name": "stdout",
          "text": [
            "5\n"
          ]
        }
      ]
    },
    {
      "cell_type": "code",
      "source": [
        "#slicing of a tuple\n",
        "arr55 = np.array((1,2,3,4,5))\n",
        "t = arr5[1:4]\n",
        "print(t)\n",
        "print(type(t))\n",
        "t1 = tuple(t)\n",
        "print(t1)\n",
        "print(type(t1))"
      ],
      "metadata": {
        "id": "qRGcqA1xifmI",
        "outputId": "e07de492-5710-4321-9381-b5b877749d37",
        "colab": {
          "base_uri": "https://localhost:8080/"
        }
      },
      "execution_count": 11,
      "outputs": [
        {
          "output_type": "stream",
          "name": "stdout",
          "text": [
            "[[4 5 6]]\n",
            "<class 'numpy.ndarray'>\n",
            "(array([4, 5, 6]),)\n",
            "<class 'tuple'>\n",
            "[7 8 9]\n"
          ]
        }
      ]
    }
  ]
}